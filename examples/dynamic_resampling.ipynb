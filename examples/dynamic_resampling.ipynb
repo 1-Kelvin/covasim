{
 "cells": [
  {
   "cell_type": "markdown",
   "metadata": {},
   "source": [
    "# Example of using dynamic resampling to simulate large populations"
   ]
  },
  {
   "cell_type": "code",
   "execution_count": 1,
   "metadata": {},
   "outputs": [
    {
     "name": "stdout",
     "output_type": "stream",
     "text": [
      "Covasim 0.23.4 (2020-04-05) — © 2020 by IDM\n"
     ]
    }
   ],
   "source": [
    "import covasim as cv"
   ]
  },
  {
   "cell_type": "markdown",
   "metadata": {},
   "source": [
    "## New parameters:\n",
    "* `resample` - 1 or 0, whether or not use resampling, defult 0\n",
    "* `resample_max_pop` - size of population internally, default 100k"
   ]
  },
  {
   "cell_type": "code",
   "execution_count": null,
   "metadata": {},
   "outputs": [],
   "source": [
    "pars = {\n",
    "    'n_days': 200,\n",
    "    'n': 2000000,\n",
    "    'resample': 1,\n",
    "    'resample_max_pop': 100000\n",
    "}\n",
    "\n",
    "sim = cv.Sim(pars=pars)"
   ]
  },
  {
   "cell_type": "code",
   "execution_count": null,
   "metadata": {},
   "outputs": [
    {
     "name": "stdout",
     "output_type": "stream",
     "text": [
      "  Creating 100000 people...\n",
      "  Created 100000 people, average age 38.46 years\n",
      "  Running day 0 of 200 (7.82 s elapsed)...\n",
      "  Running day 1 of 200 (7.85 s elapsed)...\n",
      "  Running day 2 of 200 (7.89 s elapsed)...\n",
      "  Running day 3 of 200 (7.92 s elapsed)...\n",
      "  Running day 4 of 200 (7.95 s elapsed)...\n",
      "  Running day 5 of 200 (7.98 s elapsed)...\n",
      "  Running day 6 of 200 (8.01 s elapsed)...\n",
      "  Running day 7 of 200 (8.05 s elapsed)...\n",
      "  Running day 8 of 200 (8.08 s elapsed)...\n",
      "  Running day 9 of 200 (8.12 s elapsed)...\n",
      "  Running day 10 of 200 (8.15 s elapsed)...\n",
      "  Running day 11 of 200 (8.19 s elapsed)...\n",
      "  Running day 12 of 200 (8.22 s elapsed)...\n",
      "  Running day 13 of 200 (8.25 s elapsed)...\n",
      "  Running day 14 of 200 (8.29 s elapsed)...\n",
      "  Running day 15 of 200 (8.32 s elapsed)...\n",
      "  Running day 16 of 200 (8.36 s elapsed)...\n",
      "  Running day 17 of 200 (8.40 s elapsed)...\n",
      "  Running day 18 of 200 (8.43 s elapsed)...\n",
      "  Running day 19 of 200 (8.47 s elapsed)...\n",
      "  Running day 20 of 200 (8.51 s elapsed)...\n",
      "  Running day 21 of 200 (8.54 s elapsed)...\n",
      "  Running day 22 of 200 (8.58 s elapsed)...\n",
      "  Running day 23 of 200 (8.62 s elapsed)...\n",
      "  Running day 24 of 200 (8.67 s elapsed)...\n",
      "  Running day 25 of 200 (8.71 s elapsed)...\n",
      "  Running day 26 of 200 (8.75 s elapsed)...\n",
      "  Running day 27 of 200 (8.80 s elapsed)...\n",
      "  Running day 28 of 200 (8.85 s elapsed)...\n",
      "  Running day 29 of 200 (8.90 s elapsed)...\n",
      "  Running day 30 of 200 (8.95 s elapsed)...\n",
      "  Running day 31 of 200 (9.00 s elapsed)...\n",
      "  Running day 32 of 200 (9.06 s elapsed)...\n",
      "  Running day 33 of 200 (9.12 s elapsed)...\n",
      "  Running day 34 of 200 (9.18 s elapsed)...\n",
      "  Running day 35 of 200 (9.26 s elapsed)...\n",
      "  Running day 36 of 200 (9.33 s elapsed)...\n",
      "  Running day 37 of 200 (9.42 s elapsed)...\n",
      "  Running day 38 of 200 (9.51 s elapsed)...\n",
      "  Running day 39 of 200 (9.62 s elapsed)...\n",
      "  Running day 40 of 200 (9.72 s elapsed)...\n",
      "  Running day 41 of 200 (9.85 s elapsed)...\n",
      "  Running day 42 of 200 (9.97 s elapsed)...\n",
      "  Running day 43 of 200 (10.26 s elapsed)...\n",
      "  Running day 44 of 200 (10.38 s elapsed)...\n",
      "  Running day 45 of 200 (10.51 s elapsed)...\n",
      "  Running day 46 of 200 (10.82 s elapsed)...\n",
      "  Running day 47 of 200 (10.93 s elapsed)...\n",
      "  Running day 48 of 200 (11.06 s elapsed)...\n",
      "  Running day 49 of 200 (11.22 s elapsed)...\n",
      "  Running day 50 of 200 (11.55 s elapsed)...\n",
      "  Running day 51 of 200 (11.69 s elapsed)...\n",
      "  Running day 52 of 200 (11.86 s elapsed)...\n",
      "  Running day 53 of 200 (12.17 s elapsed)...\n",
      "  Running day 54 of 200 (12.31 s elapsed)...\n",
      "  Running day 55 of 200 (12.44 s elapsed)...\n",
      "  Running day 56 of 200 (12.80 s elapsed)...\n",
      "  Running day 57 of 200 (12.90 s elapsed)...\n",
      "  Running day 58 of 200 (13.00 s elapsed)...\n",
      "  Running day 59 of 200 (13.10 s elapsed)...\n",
      "  Running day 60 of 200 (13.24 s elapsed)...\n",
      "  Running day 61 of 200 (13.43 s elapsed)...\n",
      "  Running day 62 of 200 (13.61 s elapsed)...\n",
      "  Running day 63 of 200 (13.76 s elapsed)...\n",
      "  Running day 64 of 200 (13.96 s elapsed)...\n",
      "  Running day 65 of 200 (14.18 s elapsed)...\n",
      "  Running day 66 of 200 (14.44 s elapsed)...\n",
      "  Running day 67 of 200 (14.71 s elapsed)...\n",
      "  Running day 68 of 200 (15.04 s elapsed)...\n",
      "  Running day 69 of 200 (15.40 s elapsed)...\n",
      "  Running day 70 of 200 (15.86 s elapsed)...\n",
      "  Running day 71 of 200 (16.35 s elapsed)...\n",
      "  Running day 72 of 200 (16.84 s elapsed)...\n",
      "  Running day 73 of 200 (17.44 s elapsed)...\n",
      "  Running day 74 of 200 (18.09 s elapsed)...\n",
      "  Running day 75 of 200 (18.84 s elapsed)...\n",
      "  Running day 76 of 200 (19.72 s elapsed)...\n",
      "  Running day 77 of 200 (20.66 s elapsed)...\n",
      "  Running day 78 of 200 (21.74 s elapsed)...\n",
      "  Running day 79 of 200 (22.91 s elapsed)...\n",
      "  Running day 80 of 200 (24.02 s elapsed)...\n",
      "  Running day 81 of 200 (25.20 s elapsed)...\n",
      "  Running day 82 of 200 (26.43 s elapsed)...\n",
      "  Running day 83 of 200 (27.84 s elapsed)...\n",
      "  Running day 84 of 200 (29.26 s elapsed)...\n",
      "  Running day 85 of 200 (31.01 s elapsed)...\n",
      "  Running day 86 of 200 (32.55 s elapsed)...\n",
      "  Running day 87 of 200 (34.17 s elapsed)...\n",
      "  Running day 88 of 200 (35.95 s elapsed)...\n",
      "  Running day 89 of 200 (37.48 s elapsed)...\n",
      "  Running day 90 of 200 (38.75 s elapsed)...\n",
      "  Running day 91 of 200 (40.28 s elapsed)...\n",
      "  Running day 92 of 200 (41.56 s elapsed)...\n",
      "  Running day 93 of 200 (42.68 s elapsed)...\n",
      "  Running day 94 of 200 (43.64 s elapsed)...\n",
      "  Running day 95 of 200 (44.52 s elapsed)...\n",
      "  Running day 96 of 200 (45.33 s elapsed)...\n",
      "  Running day 97 of 200 (46.00 s elapsed)...\n",
      "  Running day 98 of 200 (46.67 s elapsed)...\n",
      "  Running day 99 of 200 (47.22 s elapsed)...\n",
      "  Running day 100 of 200 (47.70 s elapsed)...\n"
     ]
    }
   ],
   "source": [
    "%time sim.run(do_plot=True)"
   ]
  }
 ],
 "metadata": {
  "kernelspec": {
   "display_name": "Python 3",
   "language": "python",
   "name": "python3"
  },
  "language_info": {
   "codemirror_mode": {
    "name": "ipython",
    "version": 3
   },
   "file_extension": ".py",
   "mimetype": "text/x-python",
   "name": "python",
   "nbconvert_exporter": "python",
   "pygments_lexer": "ipython3",
   "version": "3.7.0"
  }
 },
 "nbformat": 4,
 "nbformat_minor": 2
}
